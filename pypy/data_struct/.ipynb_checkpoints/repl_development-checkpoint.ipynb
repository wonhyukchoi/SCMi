{
 "cells": [
  {
   "cell_type": "code",
   "execution_count": 8,
   "metadata": {},
   "outputs": [
    {
     "data": {
      "text/plain": [
       "1"
      ]
     },
     "execution_count": 8,
     "metadata": {},
     "output_type": "execute_result"
    }
   ],
   "source": [
    "l = LinkedList()\n",
    "l.append(3)\n",
    "l.append(2)\n",
    "len(l)"
   ]
  },
  {
   "cell_type": "code",
   "execution_count": null,
   "metadata": {},
   "outputs": [],
   "source": []
  },
  {
   "cell_type": "code",
   "execution_count": null,
   "metadata": {},
   "outputs": [],
   "source": []
  },
  {
   "cell_type": "code",
   "execution_count": null,
   "metadata": {},
   "outputs": [],
   "source": []
  },
  {
   "cell_type": "code",
   "execution_count": null,
   "metadata": {},
   "outputs": [],
   "source": []
  },
  {
   "cell_type": "code",
   "execution_count": 1,
   "metadata": {},
   "outputs": [],
   "source": [
    "\n",
    "\n",
    "class LinkedList:\n",
    "\tdef __init__(self):\n",
    "\t\tself.head = None\n",
    "\t\tself._len = 0\n",
    "\n",
    "\tdef append(self, value):\n",
    "\t\tif self.head is None:\n",
    "\t\t\tself.head = LinkedListNode(value=value)\n",
    "            self._len += 1\n",
    "\t\telse:\n",
    "\t\t\tnode = self._traverse(self._len)\n",
    "\t\t\tnew = LinkedListNode(value)\n",
    "\t\t\tnode.pointer = new\n",
    "\t\t\tself._len += 1\n",
    "\n",
    "\tdef _traverse(self, index):\n",
    "\t\ttraversing = self.head\n",
    "\t\tfor _ in range(index):\n",
    "\t\t\ttraversing = traversing.pointer\n",
    "\t\t\tif traversing is None:\n",
    "\t\t\t\traise IndexError(f\"{index} exceeds length of list\")\n",
    "\t\treturn traversing\n",
    "\n",
    "\tdef __getitem__(self, item):\n",
    "\t\tnode = self._traverse(item)\n",
    "\t\treturn node.value\n",
    "\n",
    "\tdef __setitem__(self, key, value):\n",
    "\t\tnode = self._traverse(key)\n",
    "\t\tnode.value = value\n",
    "\n",
    "\tdef __len__(self):\n",
    "\t\treturn self._len\n",
    "\n",
    "\n",
    "class LinkedListNode:\n",
    "\tdef __init__(self, value, pointer=None):\n",
    "\t\tself.value = value\n",
    "\t\tself.pointer = pointer\n"
   ]
  },
  {
   "cell_type": "code",
   "execution_count": null,
   "metadata": {},
   "outputs": [],
   "source": []
  }
 ],
 "metadata": {
  "kernelspec": {
   "display_name": "Python 3",
   "language": "python",
   "name": "python3"
  },
  "language_info": {
   "codemirror_mode": {
    "name": "ipython",
    "version": 3
   },
   "file_extension": ".py",
   "mimetype": "text/x-python",
   "name": "python",
   "nbconvert_exporter": "python",
   "pygments_lexer": "ipython3",
   "version": "3.6.9"
  }
 },
 "nbformat": 4,
 "nbformat_minor": 2
}
