{
 "cells": [
  {
   "cell_type": "code",
   "execution_count": 51,
   "metadata": {},
   "outputs": [],
   "source": [
    "class LinkedList:\n",
    "    def __init__(self, python_list=None):\n",
    "        self.head = None\n",
    "        self._len = 0\n",
    "\n",
    "        if python_list is not None:\n",
    "            self._build_from_py_list(python_list)\n",
    "\n",
    "    def append(self, value):\n",
    "        if self.head is None:\n",
    "            self.head = LinkedListNode(value=value)\n",
    "            self._len += 1\n",
    "        else:\n",
    "            node = self._traverse(self._len - 1)\n",
    "            new = LinkedListNode(value)\n",
    "            node.pointer = new\n",
    "            self._len += 1\n",
    "\n",
    "    def _traverse(self, index):\n",
    "        traversing = self.head\n",
    "        for _ in range(index):\n",
    "            traversing = traversing.pointer\n",
    "            if traversing is None:\n",
    "                raise IndexError(f\"{index} exceeds length of list\")\n",
    "        return traversing\n",
    "\n",
    "    def _build_from_py_list(self, py_list: list):\n",
    "        if type(py_list) is not list:\n",
    "            raise TypeError(f\"Expected list, but got {type(py_list)}\")\n",
    "\n",
    "        self._len = len(py_list)\n",
    "\n",
    "        self.head = LinkedListNode(py_list[0])\n",
    "        traversing = self.head\n",
    "        for elem in py_list[1:]:\n",
    "            new = LinkedListNode(value=elem)\n",
    "            traversing.pointer = new\n",
    "            traversing = new\n",
    "\n",
    "    def __getitem__(self, item):\n",
    "        node = self._traverse(item)\n",
    "        return node.value\n",
    "\n",
    "    def __setitem__(self, key, value):\n",
    "        node = self._traverse(key)\n",
    "        node.value = value\n",
    "\n",
    "    def __len__(self):\n",
    "        return self._len\n",
    "\n",
    "    def __repr__(self):\n",
    "        traversing = self.head\n",
    "        s = \"\"\n",
    "        for i in range(self._len):\n",
    "            s += f\"Elem {i}: {traversing.value}\\n\"\n",
    "            traversing = traversing.pointer\n",
    "        s = s[:-1]  # To remove last newline\n",
    "        return s\n",
    "\n",
    "\n",
    "class LinkedListNode:\n",
    "    def __init__(self, value, pointer=None):\n",
    "        self.value = value\n",
    "        self.pointer = pointer\n"
   ]
  },
  {
   "cell_type": "code",
   "execution_count": 52,
   "metadata": {},
   "outputs": [
    {
     "name": "stdout",
     "output_type": "stream",
     "text": [
      "Elem 0: 1\n",
      "Elem 1: 2\n",
      "Elem 2: 3\n",
      "Elem 3: 4\n",
      "Elem 4: 5\n"
     ]
    }
   ],
   "source": [
    "l = [1,2,3,4,5]\n",
    "l = LinkedList(l)\n",
    "print(l)"
   ]
  },
  {
   "cell_type": "code",
   "execution_count": 43,
   "metadata": {},
   "outputs": [
    {
     "name": "stdout",
     "output_type": "stream",
     "text": [
      "2\n",
      "47\n",
      "Elem 0: 3\n",
      "Elem 1: foo\n"
     ]
    }
   ],
   "source": [
    "l = LinkedList()\n",
    "l.append(3)\n",
    "l.append(0x2f)\n",
    "print(len(l))\n",
    "print(l[1])\n",
    "l[1] = \"foo\"\n",
    "print(l)"
   ]
  },
  {
   "cell_type": "code",
   "execution_count": 54,
   "metadata": {},
   "outputs": [
    {
     "data": {
      "text/plain": [
       "2"
      ]
     },
     "execution_count": 54,
     "metadata": {},
     "output_type": "execute_result"
    }
   ],
   "source": [
    "random.randint(1,2)"
   ]
  }
 ],
 "metadata": {
  "kernelspec": {
   "display_name": "Python 3",
   "language": "python",
   "name": "python3"
  },
  "language_info": {
   "codemirror_mode": {
    "name": "ipython",
    "version": 3
   },
   "file_extension": ".py",
   "mimetype": "text/x-python",
   "name": "python",
   "nbconvert_exporter": "python",
   "pygments_lexer": "ipython3",
   "version": "3.6.9"
  }
 },
 "nbformat": 4,
 "nbformat_minor": 2
}
